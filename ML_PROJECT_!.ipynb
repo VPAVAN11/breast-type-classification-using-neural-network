{
 "cells": [
  {
   "cell_type": "code",
   "execution_count": 1,
   "id": "1181724b",
   "metadata": {},
   "outputs": [],
   "source": [
    "import numpy as np\n",
    "import pandas as pd\n",
    "import matplotlib.pyplot as plt\n",
    "import seaborn as sns"
   ]
  },
  {
   "cell_type": "code",
   "execution_count": 2,
   "id": "980a2d2d",
   "metadata": {},
   "outputs": [],
   "source": [
    "df=pd.read_csv('data.csv', index_col = 0)\n",
    "df1 = pd.DataFrame(df)\n",
    "df1 = df1.loc[:, ~df.columns.str.contains('^Unnamed')]\n"
   ]
  },
  {
   "cell_type": "code",
   "execution_count": 3,
   "id": "14643491",
   "metadata": {},
   "outputs": [
    {
     "name": "stdout",
     "output_type": "stream",
     "text": [
      "label                       object\n",
      "radius_mean                float64\n",
      "texture_mean               float64\n",
      "perimeter_mean             float64\n",
      "area_mean                  float64\n",
      "smoothness_mean            float64\n",
      "compactness_mean           float64\n",
      "concavity_mean             float64\n",
      "concave points_mean        float64\n",
      "symmetry_mean              float64\n",
      "fractal_dimension_mean     float64\n",
      "radius_se                  float64\n",
      "texture_se                 float64\n",
      "perimeter_se               float64\n",
      "area_se                    float64\n",
      "smoothness_se              float64\n",
      "compactness_se             float64\n",
      "concavity_se               float64\n",
      "concave points_se          float64\n",
      "symmetry_se                float64\n",
      "fractal_dimension_se       float64\n",
      "radius_worst               float64\n",
      "texture_worst              float64\n",
      "perimeter_worst            float64\n",
      "area_worst                 float64\n",
      "smoothness_worst           float64\n",
      "compactness_worst          float64\n",
      "concavity_worst            float64\n",
      "concave points_worst       float64\n",
      "symmetry_worst             float64\n",
      "fractal_dimension_worst    float64\n",
      "dtype: object\n"
     ]
    }
   ],
   "source": [
    "df1=df1.rename(columns={'diagnosis':'label'})\n",
    "print(df1.dtypes)"
   ]
  },
  {
   "cell_type": "code",
   "execution_count": 4,
   "id": "927bea61",
   "metadata": {},
   "outputs": [
    {
     "data": {
      "text/plain": [
       "<AxesSubplot:xlabel='label', ylabel='count'>"
      ]
     },
     "execution_count": 4,
     "metadata": {},
     "output_type": "execute_result"
    },
    {
     "data": {
      "image/png": "[encoded data removed]",
      "text/plain": [
       "<Figure size 432x288 with 1 Axes>"
      ]
     },
     "metadata": {
      "needs_background": "light"
     },
     "output_type": "display_data"
    }
   ],
   "source": [
    "sns.countplot(x=\"label\" ,data=df1)"
   ]
  },
  {
   "cell_type": "code",
   "execution_count": 5,
   "id": "b0e57d65",
   "metadata": {},
   "outputs": [
    {
     "name": "stdout",
     "output_type": "stream",
     "text": [
      "distribution of data B    357\n",
      "M    212\n",
      "Name: label, dtype: int64\n",
      "Label are ['B' 'M']\n"
     ]
    }
   ],
   "source": [
    "print(\"distribution of data\",df1['label'].value_counts())\n",
    "y=df1[\"label\"].values\n",
    "print(\"Label are\",np.unique(y))"
   ]
  },
  {
   "cell_type": "code",
   "execution_count": 6,
   "id": "19efc3aa",
   "metadata": {},
   "outputs": [
    {
     "name": "stdout",
     "output_type": "stream",
     "text": [
      "label are [0 1]\n"
     ]
    }
   ],
   "source": [
    "from sklearn.preprocessing import LabelEncoder\n",
    "encoder =LabelEncoder()\n",
    "Y= encoder.fit_transform(y)\n",
    "print(\"label are\",np.unique(Y))"
   ]
  },
  {
   "cell_type": "code",
   "execution_count": 7,
   "id": "26f6b12f",
   "metadata": {},
   "outputs": [
    {
     "name": "stdout",
     "output_type": "stream",
     "text": [
      "                         count        mean         std         min  \\\n",
      "radius_mean              569.0   14.127292    3.524049    6.981000   \n",
      "texture_mean             569.0   19.289649    4.301036    9.710000   \n",
      "perimeter_mean           569.0   91.969033   24.298981   43.790000   \n",
      "area_mean                569.0  654.889104  351.914129  143.500000   \n",
      "smoothness_mean          569.0    0.096360    0.014064    0.052630   \n",
      "compactness_mean         569.0    0.104341    0.052813    0.019380   \n",
      "concavity_mean           569.0    0.088799    0.079720    0.000000   \n",
      "concave points_mean      569.0    0.048919    0.038803    0.000000   \n",
      "symmetry_mean            569.0    0.181162    0.027414    0.106000   \n",
      "fractal_dimension_mean   569.0    0.062798    0.007060    0.049960   \n",
      "radius_se                569.0    0.405172    0.277313    0.111500   \n",
      "texture_se               569.0    1.216853    0.551648    0.360200   \n",
      "perimeter_se             569.0    2.866059    2.021855    0.757000   \n",
      "area_se                  569.0   40.337079   45.491006    6.802000   \n",
      "smoothness_se            569.0    0.007041    0.003003    0.001713   \n",
      "compactness_se           569.0    0.025478    0.017908    0.002252   \n",
      "concavity_se             569.0    0.031894    0.030186    0.000000   \n",
      "concave points_se        569.0    0.011796    0.006170    0.000000   \n",
      "symmetry_se              569.0    0.020542    0.008266    0.007882   \n",
      "fractal_dimension_se     569.0    0.003795    0.002646    0.000895   \n",
      "radius_worst             569.0   16.269190    4.833242    7.930000   \n",
      "texture_worst            569.0   25.677223    6.146258   12.020000   \n",
      "perimeter_worst          569.0  107.261213   33.602542   50.410000   \n",
      "area_worst               569.0  880.583128  569.356993  185.200000   \n",
      "smoothness_worst         569.0    0.132369    0.022832    0.071170   \n",
      "compactness_worst        569.0    0.254265    0.157336    0.027290   \n",
      "concavity_worst          569.0    0.272188    0.208624    0.000000   \n",
      "concave points_worst     569.0    0.114606    0.065732    0.000000   \n",
      "symmetry_worst           569.0    0.290076    0.061867    0.156500   \n",
      "fractal_dimension_worst  569.0    0.083946    0.018061    0.055040   \n",
      "\n",
      "                                25%         50%          75%         max  \n",
      "radius_mean               11.700000   13.370000    15.780000    28.11000  \n",
      "texture_mean              16.170000   18.840000    21.800000    39.28000  \n",
      "perimeter_mean            75.170000   86.240000   104.100000   188.50000  \n",
      "area_mean                420.300000  551.100000   782.700000  2501.00000  \n",
      "smoothness_mean            0.086370    0.095870     0.105300     0.16340  \n",
      "compactness_mean           0.064920    0.092630     0.130400     0.34540  \n",
      "concavity_mean             0.029560    0.061540     0.130700     0.42680  \n",
      "concave points_mean        0.020310    0.033500     0.074000     0.20120  \n",
      "symmetry_mean              0.161900    0.179200     0.195700     0.30400  \n",
      "fractal_dimension_mean     0.057700    0.061540     0.066120     0.09744  \n",
      "radius_se                  0.232400    0.324200     0.478900     2.87300  \n",
      "texture_se                 0.833900    1.108000     1.474000     4.88500  \n",
      "perimeter_se               1.606000    2.287000     3.357000    21.98000  \n",
      "area_se                   17.850000   24.530000    45.190000   542.20000  \n",
      "smoothness_se              0.005169    0.006380     0.008146     0.03113  \n",
      "compactness_se             0.013080    0.020450     0.032450     0.13540  \n",
      "concavity_se               0.015090    0.025890     0.042050     0.39600  \n",
      "concave points_se          0.007638    0.010930     0.014710     0.05279  \n",
      "symmetry_se                0.015160    0.018730     0.023480     0.07895  \n",
      "fractal_dimension_se       0.002248    0.003187     0.004558     0.02984  \n",
      "radius_worst              13.010000   14.970000    18.790000    36.04000  \n",
      "texture_worst             21.080000   25.410000    29.720000    49.54000  \n",
      "perimeter_worst           84.110000   97.660000   125.400000   251.20000  \n",
      "area_worst               515.300000  686.500000  1084.000000  4254.00000  \n",
      "smoothness_worst           0.116600    0.131300     0.146000     0.22260  \n",
      "compactness_worst          0.147200    0.211900     0.339100     1.05800  \n",
      "concavity_worst            0.114500    0.226700     0.382900     1.25200  \n",
      "concave points_worst       0.064930    0.099930     0.161400     0.29100  \n",
      "symmetry_worst             0.250400    0.282200     0.317900     0.66380  \n",
      "fractal_dimension_worst    0.071460    0.080040     0.092080     0.20750  \n"
     ]
    }
   ],
   "source": [
    "X = df1.drop(labels = [\"label\"], axis = 1)\n",
    "print(X.describe().T)"
   ]
  },
  {
   "cell_type": "code",
   "execution_count": 8,
   "id": "6c651615",
   "metadata": {},
   "outputs": [
    {
     "name": "stdout",
     "output_type": "stream",
     "text": [
      "[[0.52103744 0.0226581  0.54598853 ... 0.91202749 0.59846245 0.41886396]\n",
      " [0.64314449 0.27257355 0.61578329 ... 0.63917526 0.23358959 0.22287813]\n",
      " [0.60149557 0.3902604  0.59574321 ... 0.83505155 0.40370589 0.21343303]\n",
      " ...\n",
      " [0.45525108 0.62123774 0.44578813 ... 0.48728522 0.12872068 0.1519087 ]\n",
      " [0.64456434 0.66351031 0.66553797 ... 0.91065292 0.49714173 0.45231536]\n",
      " [0.03686876 0.50152181 0.02853984 ... 0.         0.25744136 0.10068215]]\n"
     ]
    }
   ],
   "source": [
    "from sklearn.preprocessing import MinMaxScaler\n",
    "scaler=MinMaxScaler()\n",
    "scaler.fit(X)\n",
    "X=scaler.transform(X)\n",
    "print(X)"
   ]
  },
  {
   "cell_type": "code",
   "execution_count": 9,
   "id": "cc851e24",
   "metadata": {},
   "outputs": [
    {
     "name": "stdout",
     "output_type": "stream",
     "text": [
      "(426, 30)\n",
      "(143, 30)\n"
     ]
    }
   ],
   "source": [
    "from sklearn.model_selection import train_test_split\n",
    "X_train,X_test,Y_train,Y_test=train_test_split(X,Y,test_size=0.25,random_state=42)\n",
    "print(X_train.shape)\n",
    "print(X_test.shape)"
   ]
  },
  {
   "cell_type": "code",
   "execution_count": 10,
   "id": "d79aef52",
   "metadata": {},
   "outputs": [],
   "source": [
    "from keras.models import Sequential\n",
    "from keras.layers import Dense,Activation,Dropout"
   ]
  },
  {
   "cell_type": "code",
   "execution_count": 11,
   "id": "52a3c7a4",
   "metadata": {},
   "outputs": [
    {
     "name": "stdout",
     "output_type": "stream",
     "text": [
      "Model: \"sequential\"\n",
      "_________________________________________________________________\n",
      " Layer (type)                Output Shape              Param #   \n",
      "=================================================================\n",
      " dense (Dense)               (None, 16)                496       \n",
      "                                                                 \n",
      " dropout (Dropout)           (None, 16)                0         \n",
      "                                                                 \n",
      " dense_1 (Dense)             (None, 1)                 17        \n",
      "                                                                 \n",
      " activation (Activation)     (None, 1)                 0         \n",
      "                                                                 \n",
      "=================================================================\n",
      "Total params: 513\n",
      "Trainable params: 513\n",
      "Non-trainable params: 0\n",
      "_________________________________________________________________\n",
      "None\n"
     ]
    }
   ],
   "source": [
    "model= Sequential()\n",
    "model.add(Dense(16,input_dim=30,\n",
    "activation='relu'))\n",
    "model.add(Dropout(0.2))\n",
    "model.add(Dense(1))\n",
    "model.add(Activation('sigmoid'))\n",
    "model.compile(loss=\"binary_crossentropy\",optimizer='adam',metrics=['accuracy'])\n",
    "print(model.summary())"
   ]
  },
  {
   "cell_type": "code",
   "execution_count": 12,
   "id": "dfe33651",
   "metadata": {},
   "outputs": [
    {
     "name": "stdout",
     "output_type": "stream",
     "text": [
      "Epoch 1/100\n",
      "6/6 [==============================] - 1s 60ms/step - loss: 0.6833 - accuracy: 0.6315 - val_loss: 0.6751 - val_accuracy: 0.6573\n",
      "Epoch 2/100\n",
      "6/6 [==============================] - 0s 9ms/step - loss: 0.6742 - accuracy: 0.6291 - val_loss: 0.6625 - val_accuracy: 0.6713\n",
      "Epoch 3/100\n",
      "6/6 [==============================] - 0s 6ms/step - loss: 0.6570 - accuracy: 0.6714 - val_loss: 0.6514 - val_accuracy: 0.7133\n",
      "Epoch 4/100\n",
      "6/6 [==============================] - 0s 8ms/step - loss: 0.6568 - accuracy: 0.7042 - val_loss: 0.6411 - val_accuracy: 0.7413\n",
      "Epoch 5/100\n",
      "6/6 [==============================] - 0s 6ms/step - loss: 0.6455 - accuracy: 0.6972 - val_loss: 0.6311 - val_accuracy: 0.7762\n",
      "Epoch 6/100\n",
      "6/6 [==============================] - 0s 8ms/step - loss: 0.6382 - accuracy: 0.7066 - val_loss: 0.6213 - val_accuracy: 0.7902\n",
      "Epoch 7/100\n",
      "6/6 [==============================] - 0s 6ms/step - loss: 0.6255 - accuracy: 0.7277 - val_loss: 0.6113 - val_accuracy: 0.8042\n",
      "Epoch 8/100\n",
      "6/6 [==============================] - 0s 7ms/step - loss: 0.6181 - accuracy: 0.7371 - val_loss: 0.6013 - val_accuracy: 0.7972\n",
      "Epoch 9/100\n",
      "6/6 [==============================] - 0s 7ms/step - loss: 0.6139 - accuracy: 0.7559 - val_loss: 0.5911 - val_accuracy: 0.7972\n",
      "Epoch 10/100\n",
      "6/6 [==============================] - 0s 7ms/step - loss: 0.6059 - accuracy: 0.7864 - val_loss: 0.5807 - val_accuracy: 0.8112\n",
      "Epoch 11/100\n",
      "6/6 [==============================] - 0s 6ms/step - loss: 0.5929 - accuracy: 0.7817 - val_loss: 0.5701 - val_accuracy: 0.8252\n",
      "Epoch 12/100\n",
      "6/6 [==============================] - 0s 7ms/step - loss: 0.5839 - accuracy: 0.7981 - val_loss: 0.5593 - val_accuracy: 0.8462\n",
      "Epoch 13/100\n",
      "6/6 [==============================] - 0s 7ms/step - loss: 0.5699 - accuracy: 0.7958 - val_loss: 0.5484 - val_accuracy: 0.8462\n",
      "Epoch 14/100\n",
      "6/6 [==============================] - 0s 6ms/step - loss: 0.5673 - accuracy: 0.7887 - val_loss: 0.5376 - val_accuracy: 0.8531\n",
      "Epoch 15/100\n",
      "6/6 [==============================] - 0s 6ms/step - loss: 0.5600 - accuracy: 0.8239 - val_loss: 0.5268 - val_accuracy: 0.8671\n",
      "Epoch 16/100\n",
      "6/6 [==============================] - 0s 8ms/step - loss: 0.5440 - accuracy: 0.8380 - val_loss: 0.5163 - val_accuracy: 0.8811\n",
      "Epoch 17/100\n",
      "6/6 [==============================] - 0s 7ms/step - loss: 0.5328 - accuracy: 0.8239 - val_loss: 0.5055 - val_accuracy: 0.8811\n",
      "Epoch 18/100\n",
      "6/6 [==============================] - 0s 8ms/step - loss: 0.5287 - accuracy: 0.8263 - val_loss: 0.4951 - val_accuracy: 0.8951\n",
      "Epoch 19/100\n",
      "6/6 [==============================] - 0s 7ms/step - loss: 0.5201 - accuracy: 0.8146 - val_loss: 0.4848 - val_accuracy: 0.9021\n",
      "Epoch 20/100\n",
      "6/6 [==============================] - 0s 6ms/step - loss: 0.5034 - accuracy: 0.8498 - val_loss: 0.4748 - val_accuracy: 0.8951\n",
      "Epoch 21/100\n",
      "6/6 [==============================] - 0s 7ms/step - loss: 0.4972 - accuracy: 0.8638 - val_loss: 0.4646 - val_accuracy: 0.9021\n",
      "Epoch 22/100\n",
      "6/6 [==============================] - 0s 7ms/step - loss: 0.5055 - accuracy: 0.8286 - val_loss: 0.4549 - val_accuracy: 0.9021\n",
      "Epoch 23/100\n",
      "6/6 [==============================] - 0s 7ms/step - loss: 0.4912 - accuracy: 0.8474 - val_loss: 0.4453 - val_accuracy: 0.9091\n",
      "Epoch 24/100\n",
      "6/6 [==============================] - 0s 7ms/step - loss: 0.4751 - accuracy: 0.8333 - val_loss: 0.4361 - val_accuracy: 0.9091\n",
      "Epoch 25/100\n",
      "6/6 [==============================] - 0s 6ms/step - loss: 0.4753 - accuracy: 0.8756 - val_loss: 0.4269 - val_accuracy: 0.9091\n",
      "Epoch 26/100\n",
      "6/6 [==============================] - 0s 6ms/step - loss: 0.4548 - accuracy: 0.8592 - val_loss: 0.4178 - val_accuracy: 0.9091\n",
      "Epoch 27/100\n",
      "6/6 [==============================] - 0s 7ms/step - loss: 0.4533 - accuracy: 0.8592 - val_loss: 0.4088 - val_accuracy: 0.9091\n",
      "Epoch 28/100\n",
      "6/6 [==============================] - 0s 7ms/step - loss: 0.4450 - accuracy: 0.8732 - val_loss: 0.4001 - val_accuracy: 0.9091\n",
      "Epoch 29/100\n",
      "6/6 [==============================] - 0s 8ms/step - loss: 0.4341 - accuracy: 0.8638 - val_loss: 0.3919 - val_accuracy: 0.9161\n",
      "Epoch 30/100\n",
      "6/6 [==============================] - 0s 7ms/step - loss: 0.4345 - accuracy: 0.8498 - val_loss: 0.3838 - val_accuracy: 0.9161\n",
      "Epoch 31/100\n",
      "6/6 [==============================] - 0s 6ms/step - loss: 0.4207 - accuracy: 0.8662 - val_loss: 0.3762 - val_accuracy: 0.9091\n",
      "Epoch 32/100\n",
      "6/6 [==============================] - 0s 7ms/step - loss: 0.4213 - accuracy: 0.8709 - val_loss: 0.3686 - val_accuracy: 0.9091\n",
      "Epoch 33/100\n",
      "6/6 [==============================] - 0s 6ms/step - loss: 0.4281 - accuracy: 0.8474 - val_loss: 0.3613 - val_accuracy: 0.9091\n",
      "Epoch 34/100\n",
      "6/6 [==============================] - 0s 6ms/step - loss: 0.4071 - accuracy: 0.8709 - val_loss: 0.3547 - val_accuracy: 0.9231\n",
      "Epoch 35/100\n",
      "6/6 [==============================] - 0s 6ms/step - loss: 0.4014 - accuracy: 0.8685 - val_loss: 0.3480 - val_accuracy: 0.9301\n",
      "Epoch 36/100\n",
      "6/6 [==============================] - 0s 7ms/step - loss: 0.3834 - accuracy: 0.8873 - val_loss: 0.3409 - val_accuracy: 0.9161\n",
      "Epoch 37/100\n",
      "6/6 [==============================] - 0s 7ms/step - loss: 0.3784 - accuracy: 0.8803 - val_loss: 0.3341 - val_accuracy: 0.9091\n",
      "Epoch 38/100\n",
      "6/6 [==============================] - 0s 6ms/step - loss: 0.3802 - accuracy: 0.8944 - val_loss: 0.3275 - val_accuracy: 0.9161\n",
      "Epoch 39/100\n",
      "6/6 [==============================] - 0s 9ms/step - loss: 0.3698 - accuracy: 0.8826 - val_loss: 0.3211 - val_accuracy: 0.9231\n",
      "Epoch 40/100\n",
      "6/6 [==============================] - 0s 7ms/step - loss: 0.3685 - accuracy: 0.8662 - val_loss: 0.3151 - val_accuracy: 0.9301\n",
      "Epoch 41/100\n",
      "6/6 [==============================] - 0s 8ms/step - loss: 0.3682 - accuracy: 0.8732 - val_loss: 0.3093 - val_accuracy: 0.9301\n",
      "Epoch 42/100\n",
      "6/6 [==============================] - 0s 6ms/step - loss: 0.3541 - accuracy: 0.8850 - val_loss: 0.3038 - val_accuracy: 0.9301\n",
      "Epoch 43/100\n",
      "6/6 [==============================] - 0s 6ms/step - loss: 0.3456 - accuracy: 0.8920 - val_loss: 0.2984 - val_accuracy: 0.9301\n",
      "Epoch 44/100\n",
      "6/6 [==============================] - 0s 6ms/step - loss: 0.3486 - accuracy: 0.8779 - val_loss: 0.2931 - val_accuracy: 0.9371\n",
      "Epoch 45/100\n",
      "6/6 [==============================] - 0s 8ms/step - loss: 0.3380 - accuracy: 0.8991 - val_loss: 0.2880 - val_accuracy: 0.9371\n",
      "Epoch 46/100\n",
      "6/6 [==============================] - 0s 8ms/step - loss: 0.3342 - accuracy: 0.8897 - val_loss: 0.2831 - val_accuracy: 0.9441\n",
      "Epoch 47/100\n",
      "6/6 [==============================] - 0s 7ms/step - loss: 0.3412 - accuracy: 0.8991 - val_loss: 0.2788 - val_accuracy: 0.9371\n",
      "Epoch 48/100\n",
      "6/6 [==============================] - 0s 7ms/step - loss: 0.3339 - accuracy: 0.8779 - val_loss: 0.2743 - val_accuracy: 0.9441\n",
      "Epoch 49/100\n",
      "6/6 [==============================] - 0s 6ms/step - loss: 0.3320 - accuracy: 0.9038 - val_loss: 0.2696 - val_accuracy: 0.9441\n",
      "Epoch 50/100\n",
      "6/6 [==============================] - 0s 6ms/step - loss: 0.3192 - accuracy: 0.8920 - val_loss: 0.2654 - val_accuracy: 0.9441\n",
      "Epoch 51/100\n",
      "6/6 [==============================] - 0s 7ms/step - loss: 0.3221 - accuracy: 0.8967 - val_loss: 0.2612 - val_accuracy: 0.9441\n",
      "Epoch 52/100\n",
      "6/6 [==============================] - 0s 7ms/step - loss: 0.3076 - accuracy: 0.9085 - val_loss: 0.2567 - val_accuracy: 0.9441\n",
      "Epoch 53/100\n",
      "6/6 [==============================] - 0s 7ms/step - loss: 0.3125 - accuracy: 0.8944 - val_loss: 0.2524 - val_accuracy: 0.9441\n",
      "Epoch 54/100\n",
      "6/6 [==============================] - 0s 6ms/step - loss: 0.3051 - accuracy: 0.8944 - val_loss: 0.2487 - val_accuracy: 0.9441\n",
      "Epoch 55/100\n",
      "6/6 [==============================] - 0s 6ms/step - loss: 0.2991 - accuracy: 0.9014 - val_loss: 0.2447 - val_accuracy: 0.9441\n",
      "Epoch 56/100\n",
      "6/6 [==============================] - 0s 6ms/step - loss: 0.2972 - accuracy: 0.9061 - val_loss: 0.2408 - val_accuracy: 0.9441\n",
      "Epoch 57/100\n",
      "6/6 [==============================] - 0s 6ms/step - loss: 0.3038 - accuracy: 0.8873 - val_loss: 0.2369 - val_accuracy: 0.9441\n",
      "Epoch 58/100\n",
      "6/6 [==============================] - 0s 6ms/step - loss: 0.2924 - accuracy: 0.8991 - val_loss: 0.2328 - val_accuracy: 0.9510\n",
      "Epoch 59/100\n"
     ]
    },
    {
     "name": "stdout",
     "output_type": "stream",
     "text": [
      "6/6 [==============================] - 0s 5ms/step - loss: 0.2801 - accuracy: 0.9061 - val_loss: 0.2284 - val_accuracy: 0.9510\n",
      "Epoch 60/100\n",
      "6/6 [==============================] - 0s 6ms/step - loss: 0.2826 - accuracy: 0.8991 - val_loss: 0.2245 - val_accuracy: 0.9510\n",
      "Epoch 61/100\n",
      "6/6 [==============================] - 0s 6ms/step - loss: 0.2731 - accuracy: 0.8967 - val_loss: 0.2207 - val_accuracy: 0.9580\n",
      "Epoch 62/100\n",
      "6/6 [==============================] - 0s 7ms/step - loss: 0.2645 - accuracy: 0.9225 - val_loss: 0.2169 - val_accuracy: 0.9580\n",
      "Epoch 63/100\n",
      "6/6 [==============================] - 0s 7ms/step - loss: 0.2813 - accuracy: 0.9014 - val_loss: 0.2134 - val_accuracy: 0.9510\n",
      "Epoch 64/100\n",
      "6/6 [==============================] - 0s 8ms/step - loss: 0.2624 - accuracy: 0.9131 - val_loss: 0.2103 - val_accuracy: 0.9510\n",
      "Epoch 65/100\n",
      "6/6 [==============================] - 0s 6ms/step - loss: 0.2667 - accuracy: 0.9061 - val_loss: 0.2088 - val_accuracy: 0.9580\n",
      "Epoch 66/100\n",
      "6/6 [==============================] - 0s 6ms/step - loss: 0.2622 - accuracy: 0.9319 - val_loss: 0.2044 - val_accuracy: 0.9580\n",
      "Epoch 67/100\n",
      "6/6 [==============================] - 0s 7ms/step - loss: 0.2516 - accuracy: 0.9225 - val_loss: 0.2006 - val_accuracy: 0.9580\n",
      "Epoch 68/100\n",
      "6/6 [==============================] - 0s 7ms/step - loss: 0.2510 - accuracy: 0.9085 - val_loss: 0.1974 - val_accuracy: 0.9650\n",
      "Epoch 69/100\n",
      "6/6 [==============================] - 0s 7ms/step - loss: 0.2511 - accuracy: 0.9249 - val_loss: 0.1937 - val_accuracy: 0.9580\n",
      "Epoch 70/100\n",
      "6/6 [==============================] - 0s 8ms/step - loss: 0.2396 - accuracy: 0.9202 - val_loss: 0.1910 - val_accuracy: 0.9650\n",
      "Epoch 71/100\n",
      "6/6 [==============================] - 0s 7ms/step - loss: 0.2424 - accuracy: 0.9319 - val_loss: 0.1880 - val_accuracy: 0.9580\n",
      "Epoch 72/100\n",
      "6/6 [==============================] - 0s 7ms/step - loss: 0.2400 - accuracy: 0.9131 - val_loss: 0.1858 - val_accuracy: 0.9650\n",
      "Epoch 73/100\n",
      "6/6 [==============================] - 0s 6ms/step - loss: 0.2367 - accuracy: 0.9202 - val_loss: 0.1834 - val_accuracy: 0.9650\n",
      "Epoch 74/100\n",
      "6/6 [==============================] - 0s 6ms/step - loss: 0.2386 - accuracy: 0.9108 - val_loss: 0.1814 - val_accuracy: 0.9720\n",
      "Epoch 75/100\n",
      "6/6 [==============================] - 0s 6ms/step - loss: 0.2268 - accuracy: 0.9296 - val_loss: 0.1799 - val_accuracy: 0.9650\n",
      "Epoch 76/100\n",
      "6/6 [==============================] - 0s 7ms/step - loss: 0.2363 - accuracy: 0.9202 - val_loss: 0.1767 - val_accuracy: 0.9720\n",
      "Epoch 77/100\n",
      "6/6 [==============================] - 0s 7ms/step - loss: 0.2245 - accuracy: 0.9366 - val_loss: 0.1746 - val_accuracy: 0.9720\n",
      "Epoch 78/100\n",
      "6/6 [==============================] - 0s 6ms/step - loss: 0.2306 - accuracy: 0.9131 - val_loss: 0.1722 - val_accuracy: 0.9720\n",
      "Epoch 79/100\n",
      "6/6 [==============================] - 0s 6ms/step - loss: 0.2200 - accuracy: 0.9155 - val_loss: 0.1699 - val_accuracy: 0.9720\n",
      "Epoch 80/100\n",
      "6/6 [==============================] - 0s 6ms/step - loss: 0.2220 - accuracy: 0.9225 - val_loss: 0.1675 - val_accuracy: 0.9790\n",
      "Epoch 81/100\n",
      "6/6 [==============================] - 0s 5ms/step - loss: 0.2272 - accuracy: 0.9249 - val_loss: 0.1670 - val_accuracy: 0.9650\n",
      "Epoch 82/100\n",
      "6/6 [==============================] - 0s 8ms/step - loss: 0.2103 - accuracy: 0.9319 - val_loss: 0.1651 - val_accuracy: 0.9720\n",
      "Epoch 83/100\n",
      "6/6 [==============================] - 0s 6ms/step - loss: 0.2198 - accuracy: 0.9178 - val_loss: 0.1619 - val_accuracy: 0.9790\n",
      "Epoch 84/100\n",
      "6/6 [==============================] - 0s 7ms/step - loss: 0.2098 - accuracy: 0.9319 - val_loss: 0.1588 - val_accuracy: 0.9580\n",
      "Epoch 85/100\n",
      "6/6 [==============================] - 0s 6ms/step - loss: 0.2126 - accuracy: 0.9249 - val_loss: 0.1571 - val_accuracy: 0.9580\n",
      "Epoch 86/100\n",
      "6/6 [==============================] - 0s 6ms/step - loss: 0.2063 - accuracy: 0.9225 - val_loss: 0.1563 - val_accuracy: 0.9790\n",
      "Epoch 87/100\n",
      "6/6 [==============================] - 0s 6ms/step - loss: 0.2162 - accuracy: 0.9178 - val_loss: 0.1554 - val_accuracy: 0.9720\n",
      "Epoch 88/100\n",
      "6/6 [==============================] - 0s 7ms/step - loss: 0.2027 - accuracy: 0.9202 - val_loss: 0.1539 - val_accuracy: 0.9720\n",
      "Epoch 89/100\n",
      "6/6 [==============================] - 0s 7ms/step - loss: 0.2137 - accuracy: 0.9202 - val_loss: 0.1519 - val_accuracy: 0.9720\n",
      "Epoch 90/100\n",
      "6/6 [==============================] - 0s 6ms/step - loss: 0.2171 - accuracy: 0.9225 - val_loss: 0.1512 - val_accuracy: 0.9720\n",
      "Epoch 91/100\n",
      "6/6 [==============================] - 0s 6ms/step - loss: 0.2081 - accuracy: 0.9249 - val_loss: 0.1486 - val_accuracy: 0.9790\n",
      "Epoch 92/100\n",
      "6/6 [==============================] - 0s 6ms/step - loss: 0.2075 - accuracy: 0.9108 - val_loss: 0.1461 - val_accuracy: 0.9580\n",
      "Epoch 93/100\n",
      "6/6 [==============================] - 0s 6ms/step - loss: 0.2040 - accuracy: 0.9272 - val_loss: 0.1456 - val_accuracy: 0.9720\n",
      "Epoch 94/100\n",
      "6/6 [==============================] - 0s 6ms/step - loss: 0.1945 - accuracy: 0.9366 - val_loss: 0.1452 - val_accuracy: 0.9790\n",
      "Epoch 95/100\n",
      "6/6 [==============================] - 0s 6ms/step - loss: 0.1982 - accuracy: 0.9319 - val_loss: 0.1439 - val_accuracy: 0.9790\n",
      "Epoch 96/100\n",
      "6/6 [==============================] - 0s 6ms/step - loss: 0.1917 - accuracy: 0.9366 - val_loss: 0.1410 - val_accuracy: 0.9720\n",
      "Epoch 97/100\n",
      "6/6 [==============================] - 0s 6ms/step - loss: 0.1872 - accuracy: 0.9390 - val_loss: 0.1392 - val_accuracy: 0.9650\n",
      "Epoch 98/100\n",
      "6/6 [==============================] - 0s 6ms/step - loss: 0.1923 - accuracy: 0.9413 - val_loss: 0.1383 - val_accuracy: 0.9790\n",
      "Epoch 99/100\n",
      "6/6 [==============================] - 0s 6ms/step - loss: 0.1865 - accuracy: 0.9366 - val_loss: 0.1369 - val_accuracy: 0.9790\n",
      "Epoch 100/100\n",
      "6/6 [==============================] - 0s 6ms/step - loss: 0.1843 - accuracy: 0.9531 - val_loss: 0.1357 - val_accuracy: 0.9790\n"
     ]
    }
   ],
   "source": [
    "history=model.fit(X_train,Y_train, verbose=1, epochs=100, batch_size=75,\n",
    "                  validation_data=(X_test, Y_test))"
   ]
  },
  {
   "cell_type": "code",
   "execution_count": 13,
   "id": "bdae2430",
   "metadata": {},
   "outputs": [
    {
     "data": {
      "image/png": "[encoded data removed]",
      "text/plain": [
       "<Figure size 432x288 with 1 Axes>"
      ]
     },
     "metadata": {
      "needs_background": "light"
     },
     "output_type": "display_data"
    },
    {
     "data": {
      "image/png": "[encoded data removed]",
      "text/plain": [
       "<Figure size 432x288 with 1 Axes>"
      ]
     },
     "metadata": {
      "needs_background": "light"
     },
     "output_type": "display_data"
    }
   ],
   "source": [
    "loss=history.history['loss']\n",
    "val_loss=history.history['val_loss']\n",
    "epochs= range (1, len(loss) +1)\n",
    "plt.plot(epochs,loss,'g',label='Training loss')\n",
    "plt.plot(epochs,val_loss,'r',label='Validation loss')\n",
    "plt.title('Training and validation loss')\n",
    "plt.xlabel('epochs')\n",
    "plt.ylabel('loss')\n",
    "plt.legend()\n",
    "plt.show()\n",
    "\n",
    "acc=history.history['accuracy']\n",
    "val_acc= history.history['val_accuracy']\n",
    "plt.plot(epochs,acc,'g',label='Training acc')\n",
    "plt.plot(epochs,val_acc,'r',label='Validation acc')\n",
    "plt.title('Training and validation accuracy')\n",
    "plt.xlabel('epochs')\n",
    "plt.ylabel('accuracy')\n",
    "plt.legend()\n",
    "plt.show()"
   ]
  },
  {
   "cell_type": "code",
   "execution_count": 14,
   "id": "6e9d2668",
   "metadata": {},
   "outputs": [
    {
     "name": "stdout",
     "output_type": "stream",
     "text": [
      "5/5 [==============================] - 0s 2ms/step\n"
     ]
    }
   ],
   "source": [
    "Y_pred=model.predict(X_test)\n",
    "Y_pred=(Y_pred > 0.5)"
   ]
  },
  {
   "cell_type": "code",
   "execution_count": 15,
   "id": "b94df389",
   "metadata": {},
   "outputs": [
    {
     "name": "stdout",
     "output_type": "stream",
     "text": [
      "5/5 [==============================] - 0s 4ms/step - loss: 0.1357 - accuracy: 0.9790\n"
     ]
    },
    {
     "data": {
      "text/plain": [
       "0.9790209531784058"
      ]
     },
     "execution_count": 15,
     "metadata": {},
     "output_type": "execute_result"
    }
   ],
   "source": [
    "model.evaluate(X_test, Y_test)[1]"
   ]
  },
  {
   "cell_type": "code",
   "execution_count": 16,
   "id": "addced69",
   "metadata": {},
   "outputs": [
    {
     "data": {
      "text/plain": [
       "<AxesSubplot:>"
      ]
     },
     "execution_count": 16,
     "metadata": {},
     "output_type": "execute_result"
    },
    {
     "data": {
      "image/png": "[encoded data removed]",
      "text/plain": [
       "<Figure size 432x288 with 2 Axes>"
      ]
     },
     "metadata": {
      "needs_background": "light"
     },
     "output_type": "display_data"
    }
   ],
   "source": [
    "from sklearn.metrics import confusion_matrix\n",
    "cm=confusion_matrix(Y_test,Y_pred)\n",
    "sns.heatmap(cm,annot=True)"
   ]
  },
  {
   "cell_type": "code",
   "execution_count": null,
   "id": "e1fa4c39",
   "metadata": {},
   "outputs": [],
   "source": []
  }
 ],
 "metadata": {
  "kernelspec": {
   "display_name": "Python 3 (ipykernel)",
   "language": "python",
   "name": "python3"
  },
  "language_info": {
   "codemirror_mode": {
    "name": "ipython",
    "version": 3
   },
   "file_extension": ".py",
   "mimetype": "text/x-python",
   "name": "python",
   "nbconvert_exporter": "python",
   "pygments_lexer": "ipython3",
   "version": "3.9.12"
  }
 },
 "nbformat": 4,
 "nbformat_minor": 5
}
